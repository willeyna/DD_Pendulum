{
 "cells": [
  {
   "cell_type": "markdown",
   "metadata": {},
   "source": [
    "# Introduction "
   ]
  },
  {
   "cell_type": "markdown",
   "metadata": {},
   "source": [
    "## Simple Pendulum Equations of Motion\n",
    "\n",
    "For a simple pendulum with mass $m$ and length $l$, we can model its motion as\n",
    "\n",
    "$$ml \\frac{d^2\\theta}{dt^2} +mg \\sin(\\theta) = 0$$\n",
    "\n",
    "When we assume a linear air resistance acts on the pendulum _and_ add an external force acting on the pendulum along its direction of motion, our equation of motion becomes as follows:\n",
    "\n",
    "$$ ml \\frac{d^2\\theta}{dt^2} + b\\frac{d\\theta}{dt} +mg \\sin(\\theta) = F^{\\text{ext}}$$\n",
    "\n",
    "This ODE is non-linear and has no general analytic solution. We can, however, find the motion of the system by numerically integrating the equation of motion as two coupled differential equations: \n",
    "\n",
    "\n",
    "$$\\frac{d \\omega}{dt} = \\frac{1}{ml}F^{\\text{ext}} - \\frac{b}{ml} \\omega - g \\sin(\\theta)$$\n",
    "\n",
    "$$ \\frac{d \\theta}{dt}  = \\omega$$\n",
    "\n",
    "---"
   ]
  },
  {
   "cell_type": "markdown",
   "metadata": {},
   "source": [
    "# Test"
   ]
  },
  {
   "cell_type": "markdown",
   "metadata": {},
   "source": [
    "# Test2"
   ]
  },
  {
   "cell_type": "markdown",
   "metadata": {},
   "source": [
    "# Test3"
   ]
  },
  {
   "cell_type": "code",
   "execution_count": null,
   "metadata": {},
   "outputs": [],
   "source": []
  }
 ],
 "metadata": {
  "kernelspec": {
   "display_name": "Python 3",
   "language": "python",
   "name": "python3"
  },
  "language_info": {
   "codemirror_mode": {
    "name": "ipython",
    "version": 3
   },
   "file_extension": ".py",
   "mimetype": "text/x-python",
   "name": "python",
   "nbconvert_exporter": "python",
   "pygments_lexer": "ipython3",
   "version": "3.7.4"
  },
  "toc": {
   "base_numbering": 1,
   "nav_menu": {},
   "number_sections": true,
   "sideBar": true,
   "skip_h1_title": false,
   "title_cell": "Table of Contents",
   "title_sidebar": "Contents",
   "toc_cell": false,
   "toc_position": {},
   "toc_section_display": true,
   "toc_window_display": false
  }
 },
 "nbformat": 4,
 "nbformat_minor": 2
}
